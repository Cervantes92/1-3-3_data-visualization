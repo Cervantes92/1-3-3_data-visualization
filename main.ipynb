{
 "cells": [
  {
   "cell_type": "markdown",
   "metadata": {},
   "source": [
    "<h1>Data Visualization Methods</h1>\n",
    "<p>Things go here</p>"
   ]
  },
  {
   "cell_type": "code",
   "execution_count": 11,
   "metadata": {
    "scrolled": false
   },
   "outputs": [
    {
     "data": {
      "text/html": [
       "<div>\n",
       "<style scoped>\n",
       "    .dataframe tbody tr th:only-of-type {\n",
       "        vertical-align: middle;\n",
       "    }\n",
       "\n",
       "    .dataframe tbody tr th {\n",
       "        vertical-align: top;\n",
       "    }\n",
       "\n",
       "    .dataframe thead th {\n",
       "        text-align: right;\n",
       "    }\n",
       "</style>\n",
       "<table border=\"1\" class=\"dataframe\">\n",
       "  <thead>\n",
       "    <tr style=\"text-align: right;\">\n",
       "      <th></th>\n",
       "      <th>Country or Area</th>\n",
       "      <th>Subgroup</th>\n",
       "      <th>Year</th>\n",
       "      <th>Source</th>\n",
       "      <th>Unit</th>\n",
       "      <th>Value</th>\n",
       "      <th>Value Footnotes</th>\n",
       "    </tr>\n",
       "  </thead>\n",
       "  <tbody>\n",
       "    <tr>\n",
       "      <th>0</th>\n",
       "      <td>Afghanistan</td>\n",
       "      <td>Female 15+ yr</td>\n",
       "      <td>2000.0</td>\n",
       "      <td>UNESCO_UIS Database_Sep2007</td>\n",
       "      <td>Percent</td>\n",
       "      <td>12.6</td>\n",
       "      <td>NaN</td>\n",
       "    </tr>\n",
       "    <tr>\n",
       "      <th>1</th>\n",
       "      <td>Afghanistan</td>\n",
       "      <td>Male 15+ yr</td>\n",
       "      <td>2000.0</td>\n",
       "      <td>UNESCO_UIS Database_Sep2007</td>\n",
       "      <td>Percent</td>\n",
       "      <td>43.1</td>\n",
       "      <td>NaN</td>\n",
       "    </tr>\n",
       "    <tr>\n",
       "      <th>2</th>\n",
       "      <td>Albania</td>\n",
       "      <td>Female 15+ yr</td>\n",
       "      <td>2001.0</td>\n",
       "      <td>UNESCO_UIS Database_Sep2007</td>\n",
       "      <td>Percent</td>\n",
       "      <td>98.3</td>\n",
       "      <td>NaN</td>\n",
       "    </tr>\n",
       "  </tbody>\n",
       "</table>\n",
       "</div>"
      ],
      "text/plain": [
       "  Country or Area       Subgroup    Year                       Source  \\\n",
       "0     Afghanistan  Female 15+ yr  2000.0  UNESCO_UIS Database_Sep2007   \n",
       "1     Afghanistan    Male 15+ yr  2000.0  UNESCO_UIS Database_Sep2007   \n",
       "2         Albania  Female 15+ yr  2001.0  UNESCO_UIS Database_Sep2007   \n",
       "\n",
       "      Unit  Value  Value Footnotes  \n",
       "0  Percent   12.6              NaN  \n",
       "1  Percent   43.1              NaN  \n",
       "2  Percent   98.3              NaN  "
      ]
     },
     "execution_count": 11,
     "metadata": {},
     "output_type": "execute_result"
    }
   ],
   "source": [
    "import numpy as np\n",
    "import pandas as pd\n",
    "import seaborn as sns\n",
    "import matplotlib.pyplot as plt\n",
    "%matplotlib inline\n",
    "\n",
    "tb_cure_rates = pd.read_csv('data/TB_Success_Rates.csv')\n",
    "tb_cure_rates.head(3)\n",
    "\n",
    "lit_rates = pd.read_csv('data/Literacy_Rates.csv')\n",
    "lit_rates.head(3)\n",
    "\n",
    "\n",
    "#dataset = sns.load_dataset('dataset_name')\n",
    "#Pulls dataset from https://github.com/mwaskom/seaborn-data"
   ]
  },
  {
   "cell_type": "code",
   "execution_count": null,
   "metadata": {},
   "outputs": [],
   "source": []
  }
 ],
 "metadata": {
  "kernelspec": {
   "display_name": "Python 3",
   "language": "python",
   "name": "python3"
  },
  "language_info": {
   "codemirror_mode": {
    "name": "ipython",
    "version": 3
   },
   "file_extension": ".py",
   "mimetype": "text/x-python",
   "name": "python",
   "nbconvert_exporter": "python",
   "pygments_lexer": "ipython3",
   "version": "3.6.7"
  }
 },
 "nbformat": 4,
 "nbformat_minor": 2
}
